{
 "cells": [
  {
   "cell_type": "code",
   "execution_count": 7,
   "id": "5b657672-a667-493c-9719-46a6c2ff122c",
   "metadata": {},
   "outputs": [
    {
     "name": "stdout",
     "output_type": "stream",
     "text": [
      "Observed difference in mean age: 7.222270824175077\n",
      "Estimated p-value: 0.0\n",
      "There is a statistically significant difference between the mean ages of Black and White individuals.\n"
     ]
    }
   ],
   "source": [
    "import pandas as pd\n",
    "import numpy as np\n",
    "import random\n",
    "\n",
    "# Load the CSV file (replace 'your_file.csv' with the path to your file)\n",
    "data = pd.read_csv('input.csv')\n",
    "\n",
    "# Separate the age and race data\n",
    "ages = data['age']\n",
    "races = data['race']\n",
    "\n",
    "# Separate Black(ba) and White ages(wa)\n",
    "ab = ages[races == 'B']\n",
    "aw = ages[races == 'W']\n",
    "\n",
    "# Observed difference in means\n",
    "observed_diff = abs(ab.mean() - wa.mean())\n",
    "print(f\"Observed difference in mean age: {observed_diff}\")\n",
    "\n",
    "# Monte Carlo simulation\n",
    "num_simulations = 10000  # Number of random permutations\n",
    "diffs = []\n",
    "\n",
    "for _ in range(num_simulations):\n",
    "    # Shuffle the race labels randomly\n",
    "    shuffled_races = np.random.permutation(races)\n",
    "    \n",
    "    # Calculate the mean difference for shuffled labels\n",
    "    shuffled_ab = ages[shuffled_races == 'B']\n",
    "    shuffled_aw = ages[shuffled_races == 'W']\n",
    "    mean_diff = abs(shuffled_ba.mean() - shuffled_wa.mean())\n",
    "    \n",
    "    # Store the difference\n",
    "    diffs.append(mean_diff)\n",
    "\n",
    "# Convert list of differences to a numpy array\n",
    "diffs = np.array(diffs)\n",
    "\n",
    "# Estimate p-value as the proportion of random differences greater than or equal to the observed difference\n",
    "p_value = np.mean(diffs >= observed_diff)\n",
    "print(f\"Estimated p-value: {p_value}\")\n",
    "\n",
    "# Interpretation of the result\n",
    "if p_value < 0.05:\n",
    "    print(\"There is a statistically significant difference between the mean ages of Black and White individuals.\")\n",
    "else:\n",
    "    print(\"There is no statistically significant difference between the mean ages of Black and White individuals.\")\n"
   ]
  },
  {
   "cell_type": "code",
   "execution_count": null,
   "id": "393f3c2b-b264-4ef2-97c2-e9e9779adc4e",
   "metadata": {},
   "outputs": [],
   "source": []
  }
 ],
 "metadata": {
  "kernelspec": {
   "display_name": "Python 3 (ipykernel)",
   "language": "python",
   "name": "python3"
  },
  "language_info": {
   "codemirror_mode": {
    "name": "ipython",
    "version": 3
   },
   "file_extension": ".py",
   "mimetype": "text/x-python",
   "name": "python",
   "nbconvert_exporter": "python",
   "pygments_lexer": "ipython3",
   "version": "3.12.4"
  }
 },
 "nbformat": 4,
 "nbformat_minor": 5
}
