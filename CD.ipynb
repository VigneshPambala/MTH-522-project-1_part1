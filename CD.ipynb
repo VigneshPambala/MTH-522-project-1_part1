{
 "cells": [
  {
   "cell_type": "code",
   "execution_count": 4,
   "id": "5a14942f-4884-4ce6-8654-5ddff0bd4058",
   "metadata": {},
   "outputs": [
    {
     "name": "stdout",
     "output_type": "stream",
     "text": [
      "Mean age of Black individuals: 33.05\n",
      "Mean age of White individuals: 40.27\n",
      "The average age difference between B and W is: 7.22 years\n",
      "Cohen's d: 0.58\n",
      "Effect size is large.\n"
     ]
    }
   ],
   "source": [
    "import pandas as pd\n",
    "import numpy as np\n",
    "\n",
    "# Path to the CSV file\n",
    "file_path = 'input.csv'\n",
    "\n",
    "# Load the data\n",
    "df = pd.read_csv(file_path)\n",
    "\n",
    "# Extract ages for Black and White individuals\n",
    "ab = df[df['race'] == 'B']['age']\n",
    "aw = df[df['race'] == 'W']['age']\n",
    "\n",
    "# Function to calculate Cohen's d\n",
    "def cohens_d(group1, group2):\n",
    "    mean1, mean2 = np.mean(group1), np.mean(group2)\n",
    "    std1, std2 = np.std(group1, ddof=1), np.std(group2, ddof=1)\n",
    "    n1, n2 = len(group1), len(group2)\n",
    "    pooled_std = np.sqrt(((n1 - 1) * std1**2 + (n2 - 1) * std2**2) / (n1 + n2 - 2))\n",
    "    if (mean1 - mean2) / pooled_std  < 0 :\n",
    "        return((mean1 - mean2) / pooled_std)*(-1)\n",
    "    else:\n",
    "        return (mean1 - mean2) / pooled_std\n",
    "\n",
    "mb = np.mean(ab)\n",
    "mw = np.mean(aw)\n",
    "\n",
    "print(f\"Mean age of Black individuals: {mb:.2f}\")\n",
    "print(f\"Mean age of White individuals: {mw:.2f}\")\n",
    "\n",
    "age_diff = np.abs(np.mean(ab) - np.mean(aw))\n",
    "\n",
    "print(f\"The average age difference between B and W is: {age_diff:.2f} years\")\n",
    "\n",
    "\n",
    "# Calculate Cohen's d\n",
    "cd_value = cohens_d(ab, aw)\n",
    "print(f\"Cohen's d: {cd_value:.2f}\")\n",
    "\n",
    "\n",
    "\n",
    "if cd_value < 0.2:\n",
    "    print(\"Effect size is small.\")\n",
    "elif cd_value < 0.5:\n",
    "    print(\"Effect size is medium.\")\n",
    "else:\n",
    "    print(\"Effect size is large.\")\n"
   ]
  },
  {
   "cell_type": "code",
   "execution_count": null,
   "id": "d8161cdf-1caf-4e28-8cc3-e511107e46d5",
   "metadata": {},
   "outputs": [],
   "source": []
  },
  {
   "cell_type": "code",
   "execution_count": null,
   "id": "68142369-8340-4ae0-b22d-3a54fda21905",
   "metadata": {},
   "outputs": [],
   "source": []
  }
 ],
 "metadata": {
  "kernelspec": {
   "display_name": "Python 3 (ipykernel)",
   "language": "python",
   "name": "python3"
  },
  "language_info": {
   "codemirror_mode": {
    "name": "ipython",
    "version": 3
   },
   "file_extension": ".py",
   "mimetype": "text/x-python",
   "name": "python",
   "nbconvert_exporter": "python",
   "pygments_lexer": "ipython3",
   "version": "3.12.4"
  }
 },
 "nbformat": 4,
 "nbformat_minor": 5
}
